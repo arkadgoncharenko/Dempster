{
 "cells": [
  {
   "cell_type": "code",
   "execution_count": 44,
   "id": "3043acb4",
   "metadata": {
    "id": "2235a263"
   },
   "outputs": [],
   "source": [
    "import numpy as np\n",
    "import pandas as pd\n",
    "import scipy as sp\n",
    "import math\n",
    "import itertools, random"
   ]
  },
  {
   "cell_type": "markdown",
   "id": "090b06d0",
   "metadata": {
    "id": "13kPy885r2o3"
   },
   "source": [
    "Генерируем ковариационную матрицу:(моделируем данные (см. Аллен 4.4))"
   ]
  },
  {
   "cell_type": "code",
   "execution_count": 86,
   "id": "8191d6fe",
   "metadata": {
    "id": "laMfauinVZ5x",
    "scrolled": true
   },
   "outputs": [
    {
     "name": "stdout",
     "output_type": "stream",
     "text": [
      "0.28236004008950344\n"
     ]
    }
   ],
   "source": [
    "d=6 #размерность наблюдений\n",
    "n=72 #число наблюдений\n",
    "generating_mean=np.zeros(d)\n",
    "covar_generating_matrix=[[1,0.3966,0.3688,0.1764,-0.4632,0.2939],[0.3966,1,0.0232,-0.0854,0.0193,0.2191],[0.3688,0.0232,1,0.0494,-0.1350,-0.2376],[0.1764,-0.0854,0.0494,1,-0.4671,0.1135],[-0.4632,0.0193,-0.1350,-0.4671,1,-0.3656],[0.2939,0.2191,-0.2376,0.1135,-0.3656,1]]\n",
    "original_prec_matrix=np.linalg.inv(covar_generating_matrix)\n",
    "print(np.linalg.det(covar_generating_matrix))\n",
    "error_1_exp=0.05#ошибка первого типа для хи-квадрат теста\n",
    "p0=0.2#вероятность обнуления элементов матрицы точности\n",
    "non_p_d=0#сгенерированные не положительно определенные матрицы\n",
    "w_s_c=0#Для сбора статистики о изначально неправильном детерминанте approx_prec_matrix\n",
    "s_d_c=0#Для сбора статистики о изначально маленьких детерминантах approx_prec_matrix -- избегаем, чтобы погрешности не мещали\n",
    "bad_addition=0#Для сбора статистики неправильной работы алгоритма, когда добавление ребра приводит к понижению логарифма правдоподобия\n",
    "rep=10#число повторений эксперимента\n",
    "full_graph=0#сколько раз все вершины были соединены одной компонентой связности\n",
    "newton_descend_doesnt_work=0\n",
    "actual_edges=np.zeros(rep)\n",
    "empty_edges=np.zeros(rep)\n",
    "false_edges=np.zeros(rep)"
   ]
  },
  {
   "cell_type": "code",
   "execution_count": 87,
   "id": "24ed1aed",
   "metadata": {},
   "outputs": [
    {
     "name": "stdout",
     "output_type": "stream",
     "text": [
      "0\n"
     ]
    },
    {
     "name": "stderr",
     "output_type": "stream",
     "text": [
      "C:\\Users\\arkad\\AppData\\Local\\Temp\\ipykernel_8320\\4111910697.py:93: FutureWarning: `rcond` parameter will change to the default of machine precision times ``max(M, N)`` where M and N are the input matrix dimensions.\n",
      "To use the future default and silence this warning we advise to pass `rcond=None`, to keep using the old, explicitly pass `rcond=-1`.\n",
      "  s=np.linalg.lstsq(gamma_1_1_i,theta_a-theta_a_i)[0] #предупреждение каждый раз вылезает, но оно вроде не важное\n"
     ]
    },
    {
     "name": "stdout",
     "output_type": "stream",
     "text": [
      "1\n",
      "2\n",
      "3\n",
      "4\n",
      "5\n",
      "6\n",
      "7\n",
      "8\n",
      "9\n"
     ]
    }
   ],
   "source": [
    "for experiment_number in range (rep):\n",
    "    print(experiment_number)\n",
    "    rng=np.random.default_rng()\n",
    "    actual_edges[experiment_number]=d*(d-1)/2\n",
    "    generating_prec_matrix=original_prec_matrix.copy()\n",
    "    for i in range(d):\n",
    "        for j in range(d):\n",
    "            if (i<j) and (rng.choice(2, p=[1-p0, p0])==1):\n",
    "                generating_prec_matrix[i,j]=0\n",
    "                generating_prec_matrix[j,i]=0\n",
    "                actual_edges[experiment_number]-=1\n",
    "    pos_def=1\n",
    "    for i in range(d+1):\n",
    "        if np.linalg.det(generating_prec_matrix[0:i, 0:i])<=0:\n",
    "            pos_def=0\n",
    "    if (pos_def==0):\n",
    "        non_p_d+=1\n",
    "        continue\n",
    "    covar_generating_matrix=np.linalg.inv(generating_prec_matrix)\n",
    "    data_sample=rng.multivariate_normal(generating_mean,covar_generating_matrix, size=n)\n",
    "    d=data_sample.shape[1]\n",
    "    n=data_sample.shape[0]\n",
    "    sample_cov_matrix=np.cov(data_sample,rowvar=False)\n",
    "    sample_prec_matrix=np.linalg.inv(sample_cov_matrix)\n",
    "    sample_corr_matrix=np.corrcoef(data_sample, rowvar=False)\n",
    "    graph=[]\n",
    "    for i in range (d):\n",
    "        graph.append((i,i)) #граф, в который будем вершины добавлять -- добавляем(i,i), потому что далее нужно будет множество ребер графа и пар(i,i)\n",
    "    component_counter=1 #это чтобы знать, какой номер будет у новой компоненты связности, если мы создаем новую\n",
    "    found_pair=1 #счетчик, который проверяет, что мы нашли хотя бы одну вершину\n",
    "    #подбираем\n",
    "    epsilon=0.0000000001\n",
    "    approx_cov1_matrix=np.linalg.inv(np.diag(np.diag(np.linalg.inv(sample_cov_matrix)))) #это будет предыдущая по добавлению ребер ков. матрица, чтобы мы могли сравнить улучшение при добавлении каждого ребра\n",
    "    while found_pair!=0:\n",
    "        found_pair=0\n",
    "        delta_max=False #счетчик, который гарантирует, что мы выбираем ребро с наибольшим модулем корреляции\n",
    "        for a in range (d):\n",
    "            for b in range (d):\n",
    "                if ((a,b) not in graph) and a < b:\n",
    "                    graph.append((a,b))\n",
    "                    theta_a=[]#это цель итерационной процедуры -- найти матрицу, совпадающую (с учетом коэффициентов) с theta_a на элементах graph, и обратная которой равна 0 вне графа\n",
    "                    for i in range (len(graph)):\n",
    "                        if (graph[i][0]==graph[i][1]):\n",
    "                            theta_a.append(-1/2*sample_cov_matrix[graph[i][0],graph[i][1]])\n",
    "                        else:\n",
    "                            theta_a.append(-sample_cov_matrix[graph[i][0],graph[i][1]])\n",
    "                    theta_a=np.array(theta_a)\n",
    "                    phi_i_a=[]#часть phi_i, которая соответсвует элементам graph\n",
    "                    for i in range (len(graph)):\n",
    "                        phi_i_a.append(sample_prec_matrix[graph[i][0],graph[i][1]])\n",
    "                    phi_i_a=np.array(phi_i_a)\n",
    "                    approx_prec_matrix=np.zeros((d,d))\n",
    "                    for i in range (d):\n",
    "                        for j in range (d):\n",
    "                            if ((i,j) in graph) or((j,i) in graph):\n",
    "                                approx_prec_matrix[i,j]=sample_prec_matrix[i,j]\n",
    "                    while np.linalg.det(approx_prec_matrix)<0:#\"выпрямляем\" матрицу, если её детерминант стал отрицательным, умножая её на 0.1 и складывая с собственной диагональю до умножения\n",
    "                        w_s_c+=1\n",
    "                        approx_prec_matrix=np.diag(np.diag(approx_prec_matrix))+(approx_prec_matrix/10)\n",
    "                        for i in range (d):\n",
    "                            phi_i_a[i]=1.1*phi_i_a[i]\n",
    "                        for i in range (len(graph)-d):\n",
    "                            phi_i_a[d+i]=0.1*phi_i_a[d+i]\n",
    "                    approx_cov_matrix=np.linalg.inv(approx_prec_matrix)\n",
    "                    while np.linalg.det(approx_cov_matrix)<epsilon:\n",
    "                        s_d_c+=1\n",
    "                        approx_prec_matrix=approx_prec_matrix/2\n",
    "                        for i in range (d):\n",
    "                            phi_i_a[i]=phi_i_a[i]/2\n",
    "                        for i in range (len(graph)-d):\n",
    "                            phi_i_a[d+i]=phi_i_a[d+i]/2\n",
    "                        approx_cov_matrix=np.linalg.inv(approx_prec_matrix)\n",
    "                    theta_a_i=[]\n",
    "                    for i in range (len(graph)):\n",
    "                        if (graph[i][0]==graph[i][1]):\n",
    "                            theta_a_i.append(-1/2*approx_cov_matrix[graph[i][0],graph[i][1]])\n",
    "                        else:\n",
    "                            theta_a_i.append(-approx_cov_matrix[graph[i][0],graph[i][1]])\n",
    "                    theta_a_i=np.array(theta_a_i)\n",
    "                    delta=100\n",
    "                    epsilon=0.0000001\n",
    "                    while (delta>epsilon):#по сути градиентный поиск точки --здесь шаг такой, что при линейной функции мы бы сразу попали в искомую точку. Аллен это называет методом Ньютона для решения неявных уравнений\n",
    "                        #создаем матрицу Гамма_(1,1) -- составляем набор пар графа, считаем матрицу с ними, чтобы потом решить уравнение gamma_1_1_i*x=theta_a-theta_a_i и получить искомый сдвиг для phi_i_a\n",
    "                        gamma_1_1_i=np.zeros((len(graph), len(graph)))\n",
    "                        for i in range (len(graph)):\n",
    "                            for j in range (len(graph)):\n",
    "                                coef_mult=1\n",
    "                                if (graph[i][0]==graph[i][1]):#коэффиценты отвечающие -1/2 у theta -- два минуса всегда обращаются в плюс, так что минусы игнорируем во всех случаях\n",
    "                                    coef_mult/=2\n",
    "                                if (graph[j][0]==graph[j][1]):\n",
    "                                    coef_mult/=2\n",
    "                                gamma_1_1_i[i,j]=coef_mult*(approx_cov_matrix[graph[i][0],graph[j][1]]*approx_cov_matrix[graph[i][1],graph[j][0]]+approx_cov_matrix[graph[i][0],graph[j][0]]*approx_cov_matrix[graph[i][1],graph[j][1]]) #спариваем элементы из i-й и j-й пары 2 способами\n",
    "                        s=np.linalg.lstsq(gamma_1_1_i,theta_a-theta_a_i)[0] #предупреждение каждый раз вылезает, но оно вроде не важное\n",
    "                        alpha=0.001\n",
    "                        proper_step=False\n",
    "                        while (proper_step==False):#проверяем, что шаг не слишком большой: детерминант не стал отрицательным\n",
    "                            phi_i1_a=phi_i_a+alpha*s\n",
    "                            #пересчитываем все итерационные величины по phi_i1_a\n",
    "                            for i in range (len(graph)):\n",
    "                                approx_prec_matrix[graph[i][0],graph[i][1]]=phi_i1_a[i]\n",
    "                                approx_prec_matrix[graph[i][1],graph[i][0]]=phi_i1_a[i]\n",
    "                            approx_cov_matrix=np.linalg.inv(approx_prec_matrix)\n",
    "                            if np.linalg.det(approx_cov_matrix)>0:\n",
    "                                proper_step=True\n",
    "                            else:\n",
    "                                alpha/=10\n",
    "                                if (alpha<0.00000000001):\n",
    "                                    proper_step='Broken'\n",
    "                        if (proper_step=='Broken'):\n",
    "                            newton_descend_doesnt_work+=1\n",
    "                            break\n",
    "                        delta=np.sum(np.square(phi_i1_a-phi_i_a))#меряем размер шага в качестве критерия остановки\n",
    "                        phi_i_a=phi_i1_a\n",
    "                        for i in range (len(graph)):\n",
    "                            if (graph[i][0]==graph[i][1]):\n",
    "                                theta_a_i[i]=-1/2*approx_cov_matrix[graph[i][0],graph[i][1]]\n",
    "                            else:\n",
    "                                theta_a_i[i]=-approx_cov_matrix[graph[i][0],graph[i][1]]\n",
    "                    delta_k=n*(math.log(np.linalg.det(approx_cov1_matrix)) - math.log(np.linalg.det(approx_cov_matrix))) + (n-1)*(np.sum(sample_cov_matrix*(np.linalg.inv(approx_cov1_matrix)-np.linalg.inv(approx_cov_matrix))))\n",
    "                    #проверка на значимость\n",
    "                    if (delta_k<0):\n",
    "                        bad_addition+=1\n",
    "                    if (1-sp.stats.chi2.cdf(delta_k, 1) < 0.05/(d*(d+1)/2-(len(graph)-1))):\n",
    "                        if (delta_max==False) or (delta_k > delta_max):\n",
    "                            approx_cov1_matrix=approx_cov_matrix\n",
    "                            found_pair=graph[-1]\n",
    "                    graph.pop()\n",
    "        graph.append(found_pair)        \n",
    "    if len(graph)==d*(d+1)/2:\n",
    "        full_graph+=1\n",
    "    graph.pop()\n",
    "    for i in range(len(graph)-d):\n",
    "        if generating_prec_matrix[graph[i+d][0],graph[i+d][1]]==0:\n",
    "            false_edges[experiment_number]+=1\n",
    "    empty_edges[experiment_number]=actual_edges[experiment_number]-len(graph)+false_edges[experiment_number]+d"
   ]
  },
  {
   "cell_type": "code",
   "execution_count": 88,
   "id": "8f9caf59",
   "metadata": {},
   "outputs": [
    {
     "data": {
      "text/plain": [
       "12.3"
      ]
     },
     "execution_count": 88,
     "metadata": {},
     "output_type": "execute_result"
    }
   ],
   "source": [
    "actual_edges.mean()"
   ]
  },
  {
   "cell_type": "code",
   "execution_count": 89,
   "id": "39d153c3",
   "metadata": {
    "scrolled": true
   },
   "outputs": [
    {
     "data": {
      "text/plain": [
       "8.5"
      ]
     },
     "execution_count": 89,
     "metadata": {},
     "output_type": "execute_result"
    }
   ],
   "source": [
    "empty_edges.mean()"
   ]
  },
  {
   "cell_type": "code",
   "execution_count": 90,
   "id": "c420d6d8",
   "metadata": {},
   "outputs": [
    {
     "data": {
      "text/plain": [
       "2.7"
      ]
     },
     "execution_count": 90,
     "metadata": {},
     "output_type": "execute_result"
    }
   ],
   "source": [
    "((d*(d-1)/2)-actual_edges).mean()"
   ]
  },
  {
   "cell_type": "code",
   "execution_count": 91,
   "id": "0ea13d73",
   "metadata": {},
   "outputs": [
    {
     "data": {
      "text/plain": [
       "0.0"
      ]
     },
     "execution_count": 91,
     "metadata": {},
     "output_type": "execute_result"
    }
   ],
   "source": [
    "false_edges.mean()"
   ]
  },
  {
   "cell_type": "code",
   "execution_count": 92,
   "id": "e1f7d977",
   "metadata": {},
   "outputs": [
    {
     "data": {
      "text/plain": [
       "342"
      ]
     },
     "execution_count": 92,
     "metadata": {},
     "output_type": "execute_result"
    }
   ],
   "source": [
    "bad_addition"
   ]
  },
  {
   "cell_type": "code",
   "execution_count": 93,
   "id": "8475d3a4",
   "metadata": {},
   "outputs": [
    {
     "data": {
      "text/plain": [
       "0"
      ]
     },
     "execution_count": 93,
     "metadata": {},
     "output_type": "execute_result"
    }
   ],
   "source": [
    "newton_descend_doesnt_work"
   ]
  },
  {
   "cell_type": "code",
   "execution_count": 94,
   "id": "fb0e363a",
   "metadata": {},
   "outputs": [
    {
     "data": {
      "text/plain": [
       "0"
      ]
     },
     "execution_count": 94,
     "metadata": {},
     "output_type": "execute_result"
    }
   ],
   "source": [
    "non_p_d"
   ]
  },
  {
   "cell_type": "code",
   "execution_count": 95,
   "id": "3c1e7802",
   "metadata": {},
   "outputs": [
    {
     "data": {
      "text/plain": [
       "1"
      ]
     },
     "execution_count": 95,
     "metadata": {},
     "output_type": "execute_result"
    }
   ],
   "source": [
    "w_s_c"
   ]
  },
  {
   "cell_type": "code",
   "execution_count": 96,
   "id": "14661e31",
   "metadata": {},
   "outputs": [
    {
     "data": {
      "text/plain": [
       "0"
      ]
     },
     "execution_count": 96,
     "metadata": {},
     "output_type": "execute_result"
    }
   ],
   "source": [
    "s_d_c"
   ]
  },
  {
   "cell_type": "code",
   "execution_count": 97,
   "id": "92bf9120",
   "metadata": {},
   "outputs": [
    {
     "data": {
      "text/plain": [
       "0"
      ]
     },
     "execution_count": 97,
     "metadata": {},
     "output_type": "execute_result"
    }
   ],
   "source": [
    "full_graph"
   ]
  },
  {
   "cell_type": "code",
   "execution_count": 98,
   "id": "ef12a84b",
   "metadata": {},
   "outputs": [
    {
     "data": {
      "text/plain": [
       "0.6922760572760573"
      ]
     },
     "execution_count": 98,
     "metadata": {},
     "output_type": "execute_result"
    }
   ],
   "source": [
    "(empty_edges/actual_edges).mean()"
   ]
  },
  {
   "cell_type": "code",
   "execution_count": 99,
   "id": "261e1caf",
   "metadata": {},
   "outputs": [
    {
     "data": {
      "text/plain": [
       "0.0"
      ]
     },
     "execution_count": 99,
     "metadata": {},
     "output_type": "execute_result"
    }
   ],
   "source": [
    "(false_edges/((d*(d-1)/2)-actual_edges)).mean()"
   ]
  },
  {
   "cell_type": "code",
   "execution_count": null,
   "id": "74413fa7",
   "metadata": {},
   "outputs": [],
   "source": []
  }
 ],
 "metadata": {
  "colab": {
   "provenance": []
  },
  "kernelspec": {
   "display_name": "Python 3 (ipykernel)",
   "language": "python",
   "name": "python3"
  },
  "language_info": {
   "codemirror_mode": {
    "name": "ipython",
    "version": 3
   },
   "file_extension": ".py",
   "mimetype": "text/x-python",
   "name": "python",
   "nbconvert_exporter": "python",
   "pygments_lexer": "ipython3",
   "version": "3.9.13"
  }
 },
 "nbformat": 4,
 "nbformat_minor": 5
}
