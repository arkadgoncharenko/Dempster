{
 "cells": [
  {
   "cell_type": "code",
   "execution_count": 19,
   "id": "3043acb4",
   "metadata": {
    "id": "2235a263"
   },
   "outputs": [],
   "source": [
    "import numpy as np\n",
    "import pandas as pd\n",
    "import scipy as sp\n",
    "import math"
   ]
  },
  {
   "cell_type": "markdown",
   "id": "090b06d0",
   "metadata": {
    "id": "13kPy885r2o3"
   },
   "source": [
    "Генерируем ковариационную матрицу:(моделируем данные (см. Аллен 4.4))"
   ]
  },
  {
   "cell_type": "code",
   "execution_count": 177,
   "id": "8191d6fe",
   "metadata": {
    "id": "laMfauinVZ5x",
    "scrolled": true
   },
   "outputs": [],
   "source": [
    "d=6 #размерность наблюдений\n",
    "n=72 #число наблюдений\n",
    "generating_mean=np.zeros(d)\n",
    "covar_generating_matrix=[[1,0.3966,0.3688,0.1764,-0.4632,0.2939],[0.3966,1,0.0232,-0.0854,0.0193,0.2191],[0.3688,0.0232,1,0.0494,-0.1350,-0.2376],[0.1764,-0.0854,0.0494,1,-0.4671,0.1135],[-0.4632,0.0193,-0.1350,-0.4671,1,-0.3656],[0.2939,0.2191,-0.2376,0.1135,-0.3656,1]]\n",
    "generating_prec_matrix=np.linalg.inv(covar_generating_matrix)\n",
    "error_1_exp=0.05#ошибка первого типа для хи-квадрат теста\n",
    "p0=0.01#вероятность обнуления элементов матрицы точности\n",
    "non_p_d=0#сгенерированные не положительно определенные матрицы\n",
    "w_s_c=0#Для сбора статистики о изначально неправильном детерминанте approx_prec_matrix\n",
    "s_d_c=0#Для сбора статистики о изначально маленьких детерминантах approx_prec_matrix -- избегаем, чтобы погрешности не мещали\n",
    "bad_addition_error=0#Для сбора статистики неправильной работы алгоритма, когда добавление ребра приводит к понижению логарифма правдоподобия\n",
    "rep=1000#число повторений эксперимента\n",
    "pairs_ended=0#сколько раз все вершины были соединены одной компонентой связности\n",
    "error_1=np.zeros(rep)\n",
    "error_2=np.zeros(rep)\n",
    "newton_descend_doesnt_work=0\n",
    "needed_edges=np.zeros(rep)\n",
    "empty_edges=np.zeros(rep)"
   ]
  },
  {
   "cell_type": "code",
   "execution_count": 178,
   "id": "24ed1aed",
   "metadata": {},
   "outputs": [
    {
     "name": "stderr",
     "output_type": "stream",
     "text": [
      "C:\\Users\\arkad\\AppData\\Local\\Temp\\ipykernel_12472\\2858306464.py:111: FutureWarning: `rcond` parameter will change to the default of machine precision times ``max(M, N)`` where M and N are the input matrix dimensions.\n",
      "To use the future default and silence this warning we advise to pass `rcond=None`, to keep using the old, explicitly pass `rcond=-1`.\n",
      "  s=np.linalg.lstsq(gamma_1_1_i,theta_a-theta_a_i)[0] #предупреждение каждый раз вылезает, но оно вроде не важное\n"
     ]
    }
   ],
   "source": [
    "for experiment_number in range (rep):\n",
    "    rng=np.random.default_rng()\n",
    "    needed_edges[experiment_number]=d*(d-1)/2\n",
    "    for i in range(d):\n",
    "        for j in range(d):\n",
    "            if (i<j) and (rng.choice(2, p=[1-p0, p0])==1):\n",
    "                generating_prec_matrix[i,j]=0\n",
    "                generating_prec_matrix[j,i]=0\n",
    "                needed_edges-=1\n",
    "    pos_def=1\n",
    "    for i in range(d+1):\n",
    "        if np.linalg.det(generating_prec_matrix[0:i, 0:i])<=0:\n",
    "            pos_def=0\n",
    "    if (pos_def==0):\n",
    "        non_p_d+=1\n",
    "        continue\n",
    "    covar_generating_matrix=np.linalg.inv(generating_prec_matrix)\n",
    "    data_sample=rng.multivariate_normal(generating_mean,covar_generating_matrix, size=n)\n",
    "    d=data_sample.shape[1]\n",
    "    n=data_sample.shape[0]\n",
    "    sample_cov_matrix=np.cov(data_sample,rowvar=False)\n",
    "    sample_prec_matrix=np.linalg.inv(sample_cov_matrix)\n",
    "    sample_corr_matrix=np.corrcoef(data_sample, rowvar=False)\n",
    "    graph_component = np.zeros(d) #это чтобы циклов не создавать -- будем соединять вершины только из разных компонент связности -- ноль это не компонента, а все вершины без ребер\n",
    "    graph=[]\n",
    "    for i in range (d):\n",
    "        graph.append((i,i)) #граф, в который будем вершины добавлять -- добавляем(i,i), потому что далее нужно будет множество ребер графа и пар(i,i)\n",
    "    component_counter=1 #это чтобы знать, какой номер будет у новой компоненты связности, если мы создаем новую\n",
    "    found_pair=1 #счетчик, который проверяет, что мы нашли хотя бы одну вершину\n",
    "    #подбираем\n",
    "    epsilon=0.0000000001\n",
    "    approx_cov1_matrix=np.linalg.inv(np.diag(np.diag(np.linalg.inv(sample_cov_matrix)))) #это будет предыдущая по добавлению ребер ков. матрица, чтобы мы могли сравнить улучшение при добавлении каждого ребра\n",
    "    while found_pair!=0:\n",
    "        found_pair=0\n",
    "        corr_max=-1 #счетчик, который гарантирует, что мы выбираем ребро с наибольшим модулем корреляции\n",
    "        for i in range (d):\n",
    "            for j in range (d):\n",
    "                if ((abs(sample_corr_matrix[i,j])>corr_max) and ((graph_component[i]!=graph_component[j]) or (graph_component[i]==0))) and (i!=j):#условия, чтобы не было циклов (включая из вершины в себя) -- ненулевые компоненты не могут быть одинаковые, и новая пара была лучбше по корреляции предыдущей\n",
    "                    found_pair=(i,j)\n",
    "                    corr_max=abs(sample_corr_matrix[i,j])\n",
    "        if found_pair!=0:\n",
    "            graph.append(found_pair)\n",
    "            if (graph_component[found_pair[0]]==0) and (graph_component[found_pair[1]]==0):#новая компонента\n",
    "                graph_component[found_pair[0]]=component_counter\n",
    "                graph_component[found_pair[1]]=component_counter\n",
    "                component_counter+=1\n",
    "            elif (graph_component[found_pair[0]]==0): #присоединеяем к существующей компоненте\n",
    "                graph_component[found_pair[0]]=graph_component[found_pair[1]]\n",
    "            elif (graph_component[found_pair[1]]==0): #присоединеяем к существующей компоненте\n",
    "                graph_component[found_pair[1]]=graph_component[found_pair[0]]\n",
    "            else:\n",
    "                abandonded_graph_component=graph_component[found_pair[0]] #переделываем номер компоненты под номер соединенной компоненты\n",
    "                for i in range (d):\n",
    "                    if abandonded_graph_component==graph_component[i]:\n",
    "                        graph_component[i]=graph_component[found_pair[1]]\n",
    "            #это шаг алгоритма крускала -- ищем наибольшую корреляцию, не образующию циклов (не соединяющую элементы из одной компоненты связности), и добавляем её в дерево\n",
    "            #теперь построим аппроксимацию ков. матрицы по дереву и сравним качество улучшения с предыдущей версией    \n",
    "            #построим первую матрицу точности -- обратную к матрице ковариаций, с нулями в нужных местах, и запустим итерационное приближение из неё, чтобы найти матрицу, совпадающую на ребрах  \n",
    "            #начальный пункт -- phi_i = approx_prec_matrix равен выборочному значению в графе и 0 вне графа, остальное строится от обратной матрицы к phi_i\n",
    "            theta_a=[]#это цель итерационной процедуры -- найти матрицу, совпадающую (с учетом коэффициентов) с theta_a на элементах graph, и обратная которой равна 0 вне графа\n",
    "            for i in range (len(graph)):\n",
    "                if (graph[i][0]==graph[i][1]):\n",
    "                    theta_a.append(-1/2*sample_cov_matrix[graph[i][0],graph[i][1]])\n",
    "                else:\n",
    "                    theta_a.append(-sample_cov_matrix[graph[i][0],graph[i][1]])\n",
    "            theta_a=np.array(theta_a)\n",
    "            phi_i_a=[]#часть phi_i, которая соответсвует элементам graph\n",
    "            for i in range (len(graph)):\n",
    "                phi_i_a.append(sample_prec_matrix[graph[i][0],graph[i][1]])\n",
    "            phi_i_a=np.array(phi_i_a)\n",
    "            approx_prec_matrix=np.zeros((d,d))\n",
    "            for i in range (d):\n",
    "                for j in range (d):\n",
    "                    if ((i,j) in graph) or((j,i) in graph):\n",
    "                        approx_prec_matrix[i,j]=sample_prec_matrix[i,j]\n",
    "            while np.linalg.det(approx_prec_matrix)<0:#\"выпрямляем\" матрицу, если её детерминант стал отрицательным, умножая её на 0.1 и складывая с собственной диагональю до умножения\n",
    "                w_s_c+=1\n",
    "                approx_prec_matrix=np.diag(np.diag(approx_prec_matrix))+(approx_prec_matrix/10)\n",
    "                for i in range (d):\n",
    "                    phi_i_a[i]=1.1*phi_i_a[i]\n",
    "                for i in range (len(graph)-d):\n",
    "                    phi_i_a[d+i]=0.1*phi_i_a[d+i]\n",
    "            approx_cov_matrix=np.linalg.inv(approx_prec_matrix)\n",
    "            while np.linalg.det(approx_cov_matrix)<epsilon:\n",
    "                s_d_c+=1\n",
    "                approx_prec_matrix=approx_prec_matrix/2\n",
    "                for i in range (d):\n",
    "                    phi_i_a[i]=phi_i_a[i]/2\n",
    "                for i in range (len(graph)-d):\n",
    "                    phi_i_a[d+i]=phi_i_a[d+i]/2\n",
    "                approx_cov_matrix=np.linalg.inv(approx_prec_matrix)\n",
    "            theta_a_i=[]\n",
    "            for i in range (len(graph)):\n",
    "                if (graph[i][0]==graph[i][1]):\n",
    "                    theta_a_i.append(-1/2*approx_cov_matrix[graph[i][0],graph[i][1]])\n",
    "                else:\n",
    "                    theta_a_i.append(-approx_cov_matrix[graph[i][0],graph[i][1]])\n",
    "            theta_a_i=np.array(theta_a_i)\n",
    "            delta=100\n",
    "            epsilon=0.0000001\n",
    "            while (delta>epsilon):#по сути градиентный поиск точки --здесь шаг такой, что при линейной функции мы бы сразу попали в искомую точку. Аллен это называет методом Ньютона для решения неявных уравнений\n",
    "                #создаем матрицу Гамма_(1,1) -- составляем набор пар графа, считаем матрицу с ними, чтобы потом решить уравнение gamma_1_1_i*x=theta_a-theta_a_i и получить искомый сдвиг для phi_i_a\n",
    "                gamma_1_1_i=np.zeros((len(graph), len(graph)))\n",
    "                for i in range (len(graph)):\n",
    "                    for j in range (len(graph)):\n",
    "                        coef_mult=1\n",
    "                        if (graph[i][0]==graph[i][1]):#коэффиценты отвечающие -1/2 у theta -- два минуса всегда обращаются в плюс, так что минусы игнорируем во всех случаях\n",
    "                            coef_mult/=2\n",
    "                        if (graph[j][0]==graph[j][1]):\n",
    "                            coef_mult/=2\n",
    "                        gamma_1_1_i[i,j]=coef_mult*(approx_cov_matrix[graph[i][0],graph[j][1]]*approx_cov_matrix[graph[i][1],graph[j][0]]+approx_cov_matrix[graph[i][0],graph[j][0]]*approx_cov_matrix[graph[i][1],graph[j][1]]) #спариваем элементы из i-й и j-й пары 2 способами\n",
    "                s=np.linalg.lstsq(gamma_1_1_i,theta_a-theta_a_i)[0] #предупреждение каждый раз вылезает, но оно вроде не важное\n",
    "                alpha=0.0001\n",
    "                proper_step=False\n",
    "                while (proper_step==False):#проверяем, что шаг не слишком большой: детерминант не стал отрицательным\n",
    "                    phi_i1_a=phi_i_a+alpha*s\n",
    "                    #пересчитываем все итерационные величины по phi_i1_a\n",
    "                    for i in range (len(graph)):\n",
    "                        approx_prec_matrix[graph[i][0],graph[i][1]]=phi_i1_a[i]\n",
    "                        approx_prec_matrix[graph[i][1],graph[i][0]]=phi_i1_a[i]\n",
    "                    approx_cov_matrix=np.linalg.inv(approx_prec_matrix)\n",
    "                    if np.linalg.det(approx_cov_matrix)>0:\n",
    "                        proper_step=True\n",
    "                    else:\n",
    "                        alpha/=10\n",
    "                        if (alpha<0.00000000001):\n",
    "                            proper_step='Broken'\n",
    "                if (proper_step=='Broken'):\n",
    "                    newton_descend_doesnt_work+=1\n",
    "                    break\n",
    "                delta=np.sum(np.square(phi_i1_a-phi_i_a))#меряем размер шага в качестве критерия остановки\n",
    "                phi_i_a=phi_i1_a\n",
    "                for i in range (len(graph)):\n",
    "                    if (graph[i][0]==graph[i][1]):\n",
    "                        theta_a_i[i]=-1/2*approx_cov_matrix[graph[i][0],graph[i][1]]\n",
    "                    else:\n",
    "                        theta_a_i[i]=-approx_cov_matrix[graph[i][0],graph[i][1]]\n",
    "            #проверяем, что добавление вершины эффективно\n",
    "            delta_k=n*(math.log(np.linalg.det(approx_cov1_matrix)) - math.log(np.linalg.det(approx_cov_matrix))) + (n-1)*(np.sum(sample_cov_matrix*(np.linalg.inv(approx_cov1_matrix)-np.linalg.inv(approx_cov_matrix))))\n",
    "            if (delta_k<0):\n",
    "                bad_addition_error+=1\n",
    "            #проверка на значимость\n",
    "            if  (1-sp.stats.chi2.cdf(delta_k, 1) < error_1_exp/(d*(d+1)/2-(len(graph)-1))):\n",
    "                approx_cov1_matrix=approx_cov_matrix\n",
    "            else:\n",
    "                discarded_edge=graph[-1]\n",
    "                graph.pop()\n",
    "                break\n",
    "    if (found_pair==0):\n",
    "        pairs_ended+=1\n",
    "    for i in range(len(graph)-d):\n",
    "        if generating_prec_matrix[graph[i+d][0],graph[i+d][1]]==0:\n",
    "            error_2[experiment_number]+=1\n",
    "    if generating_prec_matrix[discarded_edge[0],discarded_edge[1]]!=0:\n",
    "        error_1[experiment_number]+=1\n",
    "    empty_edges[experiment_number]=needed_edges[experiment_number]-len(graph)+error_2[experiment_number]+d"
   ]
  },
  {
   "cell_type": "code",
   "execution_count": 179,
   "id": "39d153c3",
   "metadata": {},
   "outputs": [
    {
     "data": {
      "text/plain": [
       "0.162"
      ]
     },
     "execution_count": 179,
     "metadata": {},
     "output_type": "execute_result"
    }
   ],
   "source": [
    "error_1.mean()"
   ]
  },
  {
   "cell_type": "code",
   "execution_count": 180,
   "id": "0ea13d73",
   "metadata": {},
   "outputs": [
    {
     "data": {
      "text/plain": [
       "0.104"
      ]
     },
     "execution_count": 180,
     "metadata": {},
     "output_type": "execute_result"
    }
   ],
   "source": [
    "error_2.mean()"
   ]
  },
  {
   "cell_type": "code",
   "execution_count": 181,
   "id": "e1f7d977",
   "metadata": {},
   "outputs": [
    {
     "data": {
      "text/plain": [
       "6"
      ]
     },
     "execution_count": 181,
     "metadata": {},
     "output_type": "execute_result"
    }
   ],
   "source": [
    "bad_addition_error"
   ]
  },
  {
   "cell_type": "code",
   "execution_count": 182,
   "id": "8475d3a4",
   "metadata": {},
   "outputs": [
    {
     "data": {
      "text/plain": [
       "0"
      ]
     },
     "execution_count": 182,
     "metadata": {},
     "output_type": "execute_result"
    }
   ],
   "source": [
    "newton_descend_doesnt_work"
   ]
  },
  {
   "cell_type": "code",
   "execution_count": 183,
   "id": "fb0e363a",
   "metadata": {},
   "outputs": [
    {
     "data": {
      "text/plain": [
       "0"
      ]
     },
     "execution_count": 183,
     "metadata": {},
     "output_type": "execute_result"
    }
   ],
   "source": [
    "non_p_d"
   ]
  },
  {
   "cell_type": "code",
   "execution_count": 184,
   "id": "3c1e7802",
   "metadata": {},
   "outputs": [
    {
     "data": {
      "text/plain": [
       "0"
      ]
     },
     "execution_count": 184,
     "metadata": {},
     "output_type": "execute_result"
    }
   ],
   "source": [
    "w_s_c"
   ]
  },
  {
   "cell_type": "code",
   "execution_count": 185,
   "id": "14661e31",
   "metadata": {},
   "outputs": [
    {
     "data": {
      "text/plain": [
       "0"
      ]
     },
     "execution_count": 185,
     "metadata": {},
     "output_type": "execute_result"
    }
   ],
   "source": [
    "s_d_c"
   ]
  },
  {
   "cell_type": "code",
   "execution_count": 170,
   "id": "92bf9120",
   "metadata": {},
   "outputs": [
    {
     "data": {
      "text/plain": [
       "0"
      ]
     },
     "execution_count": 170,
     "metadata": {},
     "output_type": "execute_result"
    }
   ],
   "source": [
    "pairs_ended"
   ]
  },
  {
   "cell_type": "code",
   "execution_count": 186,
   "id": "ab6dfaf0",
   "metadata": {},
   "outputs": [
    {
     "ename": "NameError",
     "evalue": "name 'empty_edges' is not defined",
     "output_type": "error",
     "traceback": [
      "\u001b[1;31m---------------------------------------------------------------------------\u001b[0m",
      "\u001b[1;31mNameError\u001b[0m                                 Traceback (most recent call last)",
      "\u001b[1;32m~\\AppData\\Local\\Temp\\ipykernel_12472\\2052246047.py\u001b[0m in \u001b[0;36m<module>\u001b[1;34m\u001b[0m\n\u001b[1;32m----> 1\u001b[1;33m \u001b[0mempty_edges\u001b[0m\u001b[1;33m.\u001b[0m\u001b[0mmean\u001b[0m\u001b[1;33m(\u001b[0m\u001b[1;33m)\u001b[0m\u001b[1;33m\u001b[0m\u001b[1;33m\u001b[0m\u001b[0m\n\u001b[0m",
      "\u001b[1;31mNameError\u001b[0m: name 'empty_edges' is not defined"
     ]
    }
   ],
   "source": [
    "empty_edges.mean()"
   ]
  },
  {
   "cell_type": "code",
   "execution_count": null,
   "id": "ef12a84b",
   "metadata": {},
   "outputs": [],
   "source": [
    "empty_edges/needed_edges.mean()"
   ]
  }
 ],
 "metadata": {
  "colab": {
   "provenance": []
  },
  "kernelspec": {
   "display_name": "Python 3 (ipykernel)",
   "language": "python",
   "name": "python3"
  },
  "language_info": {
   "codemirror_mode": {
    "name": "ipython",
    "version": 3
   },
   "file_extension": ".py",
   "mimetype": "text/x-python",
   "name": "python",
   "nbconvert_exporter": "python",
   "pygments_lexer": "ipython3",
   "version": "3.9.13"
  }
 },
 "nbformat": 4,
 "nbformat_minor": 5
}
