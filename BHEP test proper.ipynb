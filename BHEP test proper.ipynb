{
 "cells": [
  {
   "cell_type": "code",
   "execution_count": 13,
   "id": "00dcf43e",
   "metadata": {},
   "outputs": [],
   "source": [
    "import numpy as np\n",
    "import pandas as pd\n",
    "import scipy as sp\n",
    "import math"
   ]
  },
  {
   "cell_type": "markdown",
   "id": "351d35b4",
   "metadata": {},
   "source": [
    "Проводим симуляцию монте-карло для вычисления критического значения критерия"
   ]
  },
  {
   "cell_type": "code",
   "execution_count": 20,
   "id": "c4163464",
   "metadata": {},
   "outputs": [],
   "source": [
    "def bhep_test_statistic(data, smoothing_parameter=1):\n",
    "    n=data.shape[0]\n",
    "    d=data.shape[1]\n",
    "    if n <= d:\n",
    "        print('not enough data!')\n",
    "    S_n = np.cov(data, rowvar=False, bias=True)\n",
    "    S_n_inverse_square_root = sp.linalg.sqrtm(np.linalg.inv(S_n))\n",
    "    y_n=(data-np.mean(data, axis=0)) @ S_n_inverse_square_root\n",
    "    jk_sum=0#считаем сумму по j,k из формулы тестовой статистики BHEP\n",
    "    for j in range(n):\n",
    "        for k in range(n):\n",
    "            jk_sum+=np.exp(-(smoothing_parameter**2)*np.sum(np.square(data[j,:]-data[k,:]))/2)\n",
    "    j_sum=0#считаем сумму по j из формулы тестовой статистики BHEP\n",
    "    for j in range(n):\n",
    "        j_sum+=np.exp(-(smoothing_parameter**2)*np.sum(np.square(data[j,:]))/(2*(1+smoothing_parameter**2)))\n",
    "    bhep_test_statistic=(jk_sum/n) - (2*j_sum/((1+smoothing_parameter**2)**(d/2))) + n/((1+2*(smoothing_parameter**2))**(d/2))\n",
    "    return bhep_test_statistic"
   ]
  },
  {
   "cell_type": "code",
   "execution_count": 58,
   "id": "792c8394",
   "metadata": {},
   "outputs": [],
   "source": [
    "def bhep_test(data, smoothing_parameter=1, sim_num=10000):\n",
    "    n=data.shape[0]\n",
    "    d=data.shape[1]\n",
    "    d_cov = np.cov(data, rowvar=False, bias=True)\n",
    "    d_mean = data.mean(axis=0)\n",
    "    if n <= d:\n",
    "        print('not enough data!')\n",
    "    a=[]\n",
    "    for i in range(sim_num):\n",
    "        a.append(bhep_test_statistic(rng.multivariate_normal(mean=d_mean, cov=d_cov, size=n), smoothing_parameter=smoothing_parameter))\n",
    "    bh_stat=bhep_test_statistic(data=data, smoothing_parameter=smoothing_parameter)\n",
    "    distr_func=0\n",
    "    for i in a:\n",
    "        if bh_stat>i:\n",
    "            distr_func+=1\n",
    "        if bh_stat==i:\n",
    "            print('for some reason two statistics are the same')\n",
    "    distr_func/=sim_num\n",
    "    return distr_func, bh_stat, a"
   ]
  }
 ],
 "metadata": {
  "kernelspec": {
   "display_name": "Python 3 (ipykernel)",
   "language": "python",
   "name": "python3"
  },
  "language_info": {
   "codemirror_mode": {
    "name": "ipython",
    "version": 3
   },
   "file_extension": ".py",
   "mimetype": "text/x-python",
   "name": "python",
   "nbconvert_exporter": "python",
   "pygments_lexer": "ipython3",
   "version": "3.9.13"
  }
 },
 "nbformat": 4,
 "nbformat_minor": 5
}
